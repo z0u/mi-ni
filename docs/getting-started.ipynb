{
 "cells": [
  {
   "cell_type": "markdown",
   "metadata": {},
   "source": [
    "## Getting started\n",
    "\n",
    "This notebook uses Modal to run code remotely. Before running this notebook, you need to authenticate:\n",
    "\n",
    "```bash\n",
    "./go auth\n",
    "```\n",
    "\n",
    "Then restart the notebook kernel."
   ]
  },
  {
   "cell_type": "markdown",
   "metadata": {},
   "source": [
    "### Logging\n",
    "\n",
    "We'll start by configuring logging, with the same config used both locally and remotely. Locally it's applied here, while remote config is applied in a `before_each` hook in the next cell."
   ]
  },
  {
   "cell_type": "code",
   "execution_count": null,
   "metadata": {},
   "outputs": [],
   "source": [
    "import logging\n",
    "from utils.logging import SimpleLoggingConfig\n",
    "\n",
    "logging_config = SimpleLoggingConfig().info('notebook', 'utils', 'mini')\n",
    "logging_config.apply()\n",
    "\n",
    "# This is the logger for this notebook\n",
    "log = logging.getLogger('notebook')"
   ]
  },
  {
   "cell_type": "markdown",
   "metadata": {},
   "source": [
    "### Experiment\n",
    "\n",
    "An [Experiment](../src/mini/experiment.py) is a specialised Modal app. It simplifies running a mixture of local and remote code.\n",
    "\n",
    "We need to tell it which libraries to install remotely."
   ]
  },
  {
   "cell_type": "code",
   "execution_count": null,
   "metadata": {},
   "outputs": [],
   "source": [
    "import modal\n",
    "\n",
    "import mini\n",
    "from utils.requirements import freeze, project_packages\n",
    "\n",
    "run = mini.Experiment('demo')\n",
    "run.image = (\n",
    "    modal.Image.debian_slim()\n",
    "    .pip_install(freeze('modal'))\n",
    "    .add_local_python_source(*project_packages())\n",
    ")  # fmt: skip\n",
    "\n",
    "_ = run.before_each(logging_config.apply)"
   ]
  },
  {
   "cell_type": "markdown",
   "metadata": {},
   "source": [
    "Sometimes a stale build can cause issues. If a `@run.thither` call gets stuck, you can force a rebuild."
   ]
  },
  {
   "cell_type": "code",
   "execution_count": null,
   "metadata": {},
   "outputs": [],
   "source": [
    "# run.image.force_build = True"
   ]
  },
  {
   "cell_type": "markdown",
   "metadata": {},
   "source": [
    "### Local metrics with `@run.hither`\n",
    "\n",
    "Let's get some metrics displayed right here in the notebook! We'll define a function to draw a loss chart. This function will be called several times during training, and it should update the chart each time.\n",
    "\n",
    "The [`@run.hither`](../src/mini/experiment.py) decorator causes the `track` function to run locally, even when called from a remote function. Run-hither functions can't return anything, but they can take any pickleable parameters."
   ]
  },
  {
   "cell_type": "code",
   "execution_count": null,
   "metadata": {},
   "outputs": [],
   "source": [
    "from dataclasses import dataclass\n",
    "\n",
    "\n",
    "@dataclass\n",
    "class Metrics:\n",
    "    epoch: int\n",
    "    loss: float\n",
    "\n",
    "\n",
    "@run.hither\n",
    "def track() -> mini.AsyncCallback[Metrics]:\n",
    "    # This is a factory that returns a function that always runs locally.\n",
    "    from utils.nb import displayer\n",
    "\n",
    "    history: list[Metrics] = []\n",
    "    display = displayer()\n",
    "\n",
    "    async def _track(metrics: Metrics):\n",
    "        # This is the function that runs locally.\n",
    "        history.append(metrics)\n",
    "        fig = plot_history(history)\n",
    "        display(fig)\n",
    "\n",
    "    return _track\n",
    "\n",
    "\n",
    "def plot_history(history: list[Metrics]):\n",
    "    import matplotlib.pyplot as plt\n",
    "\n",
    "    xs = [h.epoch for h in history]\n",
    "    ys = [h.loss for h in history]\n",
    "\n",
    "    fig, ax = plt.subplots(figsize=(8, 4))\n",
    "    ax.set_title('Training progress')\n",
    "    ax.set_xlabel('Epoch')\n",
    "    ax.set_ybound(0, 1)\n",
    "    ax.plot(xs, ys, label='Loss')\n",
    "    ax.legend()\n",
    "    plt.close(fig)\n",
    "    return fig"
   ]
  },
  {
   "cell_type": "markdown",
   "metadata": {},
   "source": [
    "### Remote functions with `@run.thither`\n",
    "\n",
    "Here we define a mock training function that will run remotely. It just loops a few times and returns a stub model function.\n",
    "\n",
    "We specify the exact packages that we'll need in the image to keep it small. Version specifiers are needed (see [`freeze`](../src/dair/requirements.py)), so that:\n",
    "- The remote function behaves exactly how it would locally\n",
    "- Objects can be pickled and sent back and forth.\n",
    "\n",
    "The `track` function called in the training loop is the plotting function defined above! It's passed in as a parameter because it needs to be hooked up to a queue, which we'll see in the next step."
   ]
  },
  {
   "cell_type": "code",
   "execution_count": null,
   "metadata": {},
   "outputs": [],
   "source": [
    "from mini import Callback\n",
    "\n",
    "\n",
    "@run.thither(gpu=None)\n",
    "async def train(epochs: int, track: Callback[Metrics]):\n",
    "    # This is the function that runs in the cloud.\n",
    "    from time import sleep\n",
    "\n",
    "    log.info('Training...')\n",
    "\n",
    "    for i in range(epochs):\n",
    "        track(Metrics(epoch=i + 1, loss=1 / (i + 1)))\n",
    "        sleep(0.2)\n",
    "\n",
    "    def stub_model(x):\n",
    "        if x == 'What is your quest?':\n",
    "            return 'To seek the Holy Grail.'\n",
    "        elif x == 'What is the air-speed velocity of an unladen swallow?':\n",
    "            return 'What do you mean? An African or European swallow?'\n",
    "        else:\n",
    "            return \"I don't know that!\"\n",
    "\n",
    "    log.info('Training complete')\n",
    "    # Send the trained model back to the local machine.\n",
    "    return stub_model"
   ]
  },
  {
   "cell_type": "markdown",
   "metadata": {},
   "source": [
    "### Training\n",
    "\n",
    "Now let's run the training code remotely.\n",
    "\n",
    "Behind the scenes, a [distributed `Queue`](https://modal.com/docs/reference/modal.Queue) is used to send progress information back during training. You can push rich data onto the queue (like actual Matplotlib figures), and it transparently handles serialization - but in this example, a simple dataclass is emitted. To get that to work, we need to use the run-hither function (`track`) as a context manager.\n",
    "\n",
    "The context object `track_stub` is passed to the training function. It's `track_stub` that sends the calls back to the local machine, where they are executed in the real `track` function."
   ]
  },
  {
   "cell_type": "code",
   "execution_count": null,
   "metadata": {},
   "outputs": [],
   "source": [
    "# Create a stub to send to the remote function\n",
    "async with run(), track() as track_stub:\n",
    "    # Call the remote function\n",
    "    model = await train(20, track_stub)"
   ]
  },
  {
   "cell_type": "markdown",
   "metadata": {},
   "source": [
    "### Testing\n",
    "\n",
    "The model was created remotely, serialized, and sent back. Now we can run it locally!"
   ]
  },
  {
   "cell_type": "code",
   "execution_count": null,
   "metadata": {},
   "outputs": [],
   "source": [
    "from textwrap import dedent\n",
    "\n",
    "x = 'What is your quest?'\n",
    "print(\n",
    "    dedent(f\"\"\"\n",
    "    {x}\n",
    "    {model(x)}\n",
    "    \"\"\").strip()\n",
    ")\n",
    "\n",
    "x = 'What is the air-speed velocity of an unladen swallow?'\n",
    "print(\n",
    "    dedent(f\"\"\"\n",
    "    {x}\n",
    "    {model(x)}\n",
    "    {model(model(x))}\n",
    "    \"\"\").strip()\n",
    ")"
   ]
  }
 ],
 "metadata": {
  "kernelspec": {
   "display_name": "mi-ni",
   "language": "python",
   "name": "python3"
  },
  "language_info": {
   "codemirror_mode": {
    "name": "ipython",
    "version": 3
   },
   "file_extension": ".py",
   "mimetype": "text/x-python",
   "name": "python",
   "nbconvert_exporter": "python",
   "pygments_lexer": "ipython3",
   "version": "3.13.1"
  }
 },
 "nbformat": 4,
 "nbformat_minor": 2
}
